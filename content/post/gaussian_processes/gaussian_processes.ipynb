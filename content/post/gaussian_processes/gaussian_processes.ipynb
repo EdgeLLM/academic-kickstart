{
 "cells": [
  {
   "cell_type": "markdown",
   "metadata": {},
   "source": [
    "# 高斯过程回归"
   ]
  },
  {
   "cell_type": "markdown",
   "metadata": {},
   "source": [
    "同支持向量机(Support Vector Machine, SVM)算法一样，高斯过程回归(Gaussian Processes Regression, GPR)也是基于核函数的方法。不同的是GPR结合了贝叶斯方法，这使得其能够给出预测值的概率表达。"
   ]
  },
  {
   "cell_type": "markdown",
   "metadata": {},
   "source": [
    "## 多维高斯分布"
   ]
  },
  {
   "cell_type": "markdown",
   "metadata": {},
   "source": [
    "从二维正态随机变量的概率密度出发，将其推广到n维随机变量，已知二维正态随机变量 $(\\mathbf{X}_1, \\mathbf{X}_2)$的概率密度函数为"
   ]
  },
  {
   "cell_type": "markdown",
   "metadata": {},
   "source": [
    "\\begin{equation*}\n",
    "f(x_1,x_2)=\n",
    "\\frac{1}{2\\pi\\sigma_1\\sigma_2\\sqrt{1-\\rho^2}} \n",
    "\\exp \\left\\{\\frac{-1}{2(1-\\rho^2)} \n",
    "\\left\n",
    "[\\frac{(x_1-\\mu_1)^2}{\\sigma_1^2} \n",
    "-2\\rho \\frac{(x_1-\\mu_1)(x_2-\\mu_2)}{\\sigma_1 \\sigma_2}\n",
    "+\\frac{(x_2-\\mu_2)^2}{\\sigma_2^2}\n",
    "\\right] \n",
    "\\right \\}\n",
    "\\end{equation*}"
   ]
  },
  {
   "cell_type": "markdown",
   "metadata": {},
   "source": [
    "其中$\\mu_1$和$\\mu_2$分别为$x_1$和$x_2$的均值，$\\sigma_1$和$\\sigma_2$分别为$x_1$和$x_2$的标准差"
   ]
  },
  {
   "cell_type": "markdown",
   "metadata": {},
   "source": [
    "\\begin{equation*}\n",
    "\\left( \\sum_{k=1}^n a_k b_k \\right)^2 \\leq \\left( \\sum_{k=1}^n a_k^2 \\right) \\left( \\sum_{k=1}^n b_k^2 \\right)\n",
    "\\end{equation*}"
   ]
  },
  {
   "cell_type": "code",
   "execution_count": null,
   "metadata": {},
   "outputs": [],
   "source": []
  }
 ],
 "metadata": {
  "kernelspec": {
   "display_name": "Python 3",
   "language": "python",
   "name": "python3"
  },
  "language_info": {
   "codemirror_mode": {
    "name": "ipython",
    "version": 3
   },
   "file_extension": ".py",
   "mimetype": "text/x-python",
   "name": "python",
   "nbconvert_exporter": "python",
   "pygments_lexer": "ipython3",
   "version": "3.6.8"
  }
 },
 "nbformat": 4,
 "nbformat_minor": 4
}
